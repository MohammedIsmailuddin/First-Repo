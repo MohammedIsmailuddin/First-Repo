{
 "cells": [
  {
   "cell_type": "code",
   "execution_count": 2,
   "id": "23ad8c69-7bfd-4e6d-a90e-16db1b819d79",
   "metadata": {},
   "outputs": [
    {
     "name": "stdout",
     "output_type": "stream",
     "text": [
      "Mean: 1.4142135623730951\n",
      "standard deviation: 1.4142135623730951\n"
     ]
    }
   ],
   "source": [
    "import numpy as np\n",
    "#example array\n",
    "arr=np.array([1,2,3,4,5])\n",
    "#Mean\n",
    "mean=np.std(arr)\n",
    "#standard deviation\n",
    "std_dev=np.std(arr)\n",
    "print(\"Mean:\",mean)\n",
    "print(\"standard deviation:\",std_dev)"
   ]
  },
  {
   "cell_type": "code",
   "execution_count": null,
   "id": "94706922-948f-40d7-9b93-82f605b3a455",
   "metadata": {},
   "outputs": [],
   "source": []
  }
 ],
 "metadata": {
  "kernelspec": {
   "display_name": "Python 3 (ipykernel)",
   "language": "python",
   "name": "python3"
  },
  "language_info": {
   "codemirror_mode": {
    "name": "ipython",
    "version": 3
   },
   "file_extension": ".py",
   "mimetype": "text/x-python",
   "name": "python",
   "nbconvert_exporter": "python",
   "pygments_lexer": "ipython3",
   "version": "3.11.7"
  }
 },
 "nbformat": 4,
 "nbformat_minor": 5
}
