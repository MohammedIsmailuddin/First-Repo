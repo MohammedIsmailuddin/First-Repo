{
 "cells": [
  {
   "cell_type": "code",
   "execution_count": 1,
   "id": "e837e7bf-1d81-4086-9248-5dc093e4cb10",
   "metadata": {},
   "outputs": [
    {
     "name": "stdout",
     "output_type": "stream",
     "text": [
      "Random Matrix:\n",
      "[[90 92 89  7  4]\n",
      " [64 65 16  9 41]\n",
      " [96 52 15 79 24]\n",
      " [18 17 56 57 16]\n",
      " [57 69 23 59 87]]\n",
      "\n",
      "Minimum values along each row:\n",
      "[ 4  9 15 16 23]\n",
      "\n",
      "Maximum values along each row:\n",
      "[92 65 96 57 87]\n",
      "\n",
      "Minimum values along each column:\n",
      "[18 17 15  7  4]\n",
      "\n",
      "Maximum values along each column:\n",
      "[96 92 89 79 87]\n"
     ]
    }
   ],
   "source": [
    "import numpy as np\n",
    "\n",
    "# Generate a random 5x5 matrix\n",
    "matrix = np.random.randint(1, 100, size=(5, 5))\n",
    "\n",
    "print(\"Random Matrix:\")\n",
    "print(matrix)\n",
    "\n",
    "# Find minimum and maximum values along each row\n",
    "min_row_values = np.min(matrix, axis=1)\n",
    "max_row_values = np.max(matrix, axis=1)\n",
    "\n",
    "print(\"\\nMinimum values along each row:\")\n",
    "print(min_row_values)\n",
    "print(\"\\nMaximum values along each row:\")\n",
    "print(max_row_values)\n",
    "\n",
    "# Find minimum and maximum values along each column\n",
    "min_col_values = np.min(matrix, axis=0)\n",
    "max_col_values = np.max(matrix, axis=0)\n",
    "\n",
    "print(\"\\nMinimum values along each column:\")\n",
    "print(min_col_values)\n",
    "print(\"\\nMaximum values along each column:\")\n",
    "print(max_col_values)"
   ]
  },
  {
   "cell_type": "code",
   "execution_count": null,
   "id": "d2205328-7cfb-41e6-bfbc-4a6049dd2d9c",
   "metadata": {},
   "outputs": [],
   "source": []
  }
 ],
 "metadata": {
  "kernelspec": {
   "display_name": "Python 3 (ipykernel)",
   "language": "python",
   "name": "python3"
  },
  "language_info": {
   "codemirror_mode": {
    "name": "ipython",
    "version": 3
   },
   "file_extension": ".py",
   "mimetype": "text/x-python",
   "name": "python",
   "nbconvert_exporter": "python",
   "pygments_lexer": "ipython3",
   "version": "3.11.7"
  }
 },
 "nbformat": 4,
 "nbformat_minor": 5
}
